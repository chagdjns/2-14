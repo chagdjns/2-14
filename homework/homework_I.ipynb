{
  "cells": [
    {
      "cell_type": "markdown",
      "metadata": {
        "id": "FNO1QvMTywBs"
      },
      "source": [
        "# Assignment 1\n",
        "\n",
        "**Topics**\n",
        "\n",
        "- Numbers and operations\n",
        "- Strings\n",
        "- Lists\n",
        "\n",
        "\n",
        "For each of the problems below use either a code or markdown cell to answer.  "
      ]
    },
    {
      "cell_type": "markdown",
      "metadata": {
        "id": "0JvUx990ywBu"
      },
      "source": [
        "### Number and Operation\n",
        "\n",
        "In the problems below, compute the appropriate numerical operations and assign your solution to the given variable."
      ]
    },
    {
      "cell_type": "markdown",
      "metadata": {
        "id": "vqvRCrbKywBu"
      },
      "source": [
        "**Problem 1**: Sum the first 10 integers.  Assign your solution to `ans1` below."
      ]
    },
    {
      "cell_type": "code",
      "execution_count": 10,
      "metadata": {
        "colab": {
          "base_uri": "https://localhost:8080/"
        },
        "id": "M0KfWv02ywBu",
        "outputId": "37a973cd-7553-4016-b76e-cf98b79be188"
      },
      "outputs": [
        {
          "output_type": "stream",
          "name": "stdout",
          "text": [
            "55\n"
          ]
        }
      ],
      "source": [
        "### addition\n",
        "ans1 = sum(range(1,11))\n",
        "print(ans1)"
      ]
    },
    {
      "cell_type": "markdown",
      "metadata": {
        "id": "izaMNVEaywBu"
      },
      "source": [
        "**Problem 2**: Multiply 1, 2, 3, 4, and 5.  Assign your solution to `ans2` below."
      ]
    },
    {
      "cell_type": "code",
      "execution_count": 9,
      "metadata": {
        "colab": {
          "base_uri": "https://localhost:8080/"
        },
        "id": "CP4UeV5uywBv",
        "outputId": "31ea900c-239c-45d6-b7ea-335c7f2d5cf6"
      },
      "outputs": [
        {
          "output_type": "stream",
          "name": "stdout",
          "text": [
            "120\n"
          ]
        }
      ],
      "source": [
        "### multiplicatin\n",
        "ans2 = math.prod(range(1,6))\n",
        "print(ans2)"
      ]
    },
    {
      "cell_type": "markdown",
      "metadata": {
        "id": "ddMOG7ccywBv"
      },
      "source": [
        "**Problem 3**: Divide 9 by 3.  Assign your solution to `ans3` below."
      ]
    },
    {
      "cell_type": "code",
      "execution_count": 12,
      "metadata": {
        "colab": {
          "base_uri": "https://localhost:8080/"
        },
        "id": "nEwZwHQVywBv",
        "outputId": "31799e24-e811-41c0-d3d8-ad8bfc8251a1"
      },
      "outputs": [
        {
          "output_type": "stream",
          "name": "stdout",
          "text": [
            "3.0\n"
          ]
        }
      ],
      "source": [
        "### division\n",
        "ans3 = 9 / 3\n",
        "print(ans3)\n"
      ]
    },
    {
      "cell_type": "markdown",
      "metadata": {
        "id": "r4An_TMUywBv"
      },
      "source": [
        "**Problem 4**: What is the remainder when 7 is divided by 3?  Use the `%` operator to determine this.  Assign your solution to `ans4` below."
      ]
    },
    {
      "cell_type": "code",
      "execution_count": 13,
      "metadata": {
        "colab": {
          "base_uri": "https://localhost:8080/"
        },
        "id": "lUasXIwMywBv",
        "outputId": "b40f5662-2f17-402b-bb15-b557dece517a"
      },
      "outputs": [
        {
          "output_type": "stream",
          "name": "stdout",
          "text": [
            "1\n"
          ]
        }
      ],
      "source": [
        "### modulus\n",
        "ans4 = 7 % 3\n",
        "print(ans4)"
      ]
    },
    {
      "cell_type": "markdown",
      "metadata": {
        "id": "i3guNKL9ywBv"
      },
      "source": [
        "**Problem 5**: What is the integer of the quotient when 12 is divided by 5?  Use the `//` operator to determine this.  Assign your solution to `ans5` below.\n"
      ]
    },
    {
      "cell_type": "code",
      "execution_count": 14,
      "metadata": {
        "colab": {
          "base_uri": "https://localhost:8080/"
        },
        "id": "TzUP03FRywBv",
        "outputId": "d4f4d9e7-b89b-4925-8e0c-e134c404699d"
      },
      "outputs": [
        {
          "output_type": "stream",
          "name": "stdout",
          "text": [
            "2\n"
          ]
        }
      ],
      "source": [
        "### floor\n",
        "ans5 = 12//5\n",
        "print(ans5)"
      ]
    },
    {
      "cell_type": "markdown",
      "metadata": {
        "id": "sA6bG9AlywBw"
      },
      "source": [
        "### Strings and their methods"
      ]
    },
    {
      "cell_type": "markdown",
      "metadata": {
        "id": "Z0EYDKJQywBw"
      },
      "source": [
        "**Problem 6**: Create a string named `firstname` below with your first name.  "
      ]
    },
    {
      "cell_type": "code",
      "execution_count": 16,
      "metadata": {
        "colab": {
          "base_uri": "https://localhost:8080/"
        },
        "id": "2WGIvdVYywBw",
        "outputId": "27e3d904-ad35-4705-84a1-c7d76024f62d"
      },
      "outputs": [
        {
          "output_type": "stream",
          "name": "stdout",
          "text": [
            "Suzy\n"
          ]
        }
      ],
      "source": [
        "### define a string\n",
        "firstname = 'Suzy'\n",
        "print(firstname)"
      ]
    },
    {
      "cell_type": "markdown",
      "metadata": {
        "id": "VC4gDQtJywBw"
      },
      "source": [
        "**Problem 7**:   Use the `.upper()` method to uppercase the string `firstname`. Assign your solution to `ans7` below."
      ]
    },
    {
      "cell_type": "code",
      "execution_count": 23,
      "metadata": {
        "colab": {
          "base_uri": "https://localhost:8080/"
        },
        "id": "OKIitriuywBw",
        "outputId": "e6875b1d-9fbb-40a0-a284-f6ad566fe55c"
      },
      "outputs": [
        {
          "output_type": "stream",
          "name": "stdout",
          "text": [
            "SUZY\n"
          ]
        }
      ],
      "source": [
        "ans7 = firstname.upper()\n",
        "print(ans7)"
      ]
    },
    {
      "cell_type": "markdown",
      "metadata": {
        "id": "jShZ_U-SywBw"
      },
      "source": [
        "**Problem 8**: Below, the lyrics from the song Black Site by the American hardcore-punk band Ammo [discography](https://www.discogs.com/artist/6688148-Ammo-15).  Use the split method to split the lyrics and assign them to a variable `tokens`."
      ]
    },
    {
      "cell_type": "code",
      "execution_count": 26,
      "metadata": {
        "colab": {
          "base_uri": "https://localhost:8080/"
        },
        "id": "9CDvW-MeywBw",
        "outputId": "c6cd851e-ee76-4f4c-d8ec-f5ed5cb48de2"
      },
      "outputs": [
        {
          "output_type": "stream",
          "name": "stdout",
          "text": [
            "['Enhanced', 'interrogation', 'Secret', 'strangulation', 'Thirst', 'for', 'information', 'Human', 'ruination']\n"
          ]
        }
      ],
      "source": [
        "### split\n",
        "lyrics = '''\n",
        "Enhanced interrogation\n",
        "Secret strangulation\n",
        "Thirst for information\n",
        "Human ruination\n",
        "'''\n",
        "tokens = lyrics.split()\n",
        "print(tokens)"
      ]
    },
    {
      "cell_type": "markdown",
      "metadata": {
        "id": "HI1RBCuGywBw"
      },
      "source": [
        "**Problem 9**: Use the list `tokens` to extract every other word from the lyrics and combine these to be a new string using the `.join()` function.  Assign your answer as `new_lyrics` below."
      ]
    },
    {
      "cell_type": "code",
      "execution_count": 27,
      "metadata": {
        "colab": {
          "base_uri": "https://localhost:8080/"
        },
        "id": "xbzGOt5IywBw",
        "outputId": "9320149f-e189-410a-8bbe-97321e31981e"
      },
      "outputs": [
        {
          "output_type": "stream",
          "name": "stdout",
          "text": [
            "Enhanced Secret Thirst information ruination\n"
          ]
        }
      ],
      "source": [
        "new_lyrics = ' '.join(tokens[::2])\n",
        "print(new_lyrics)"
      ]
    },
    {
      "cell_type": "markdown",
      "metadata": {
        "id": "GyI4dag5ywBw"
      },
      "source": [
        "### Lists\n",
        "\n",
        "The questions below focus on the use of [list](https://docs.python.org/3/tutorial/datastructures.html) objects. Also, they will introduce you to Ann Peebles song *Trouble, Heartaches, and Sadness* from the [album](https://www.discogs.com/master/137000-Ann-Peebles-Straight-From-The-Heart), whose lyrics are assigned to `trouble_heartaches_and_sadness` below."
      ]
    },
    {
      "cell_type": "code",
      "execution_count": 29,
      "metadata": {
        "id": "cYoUIHijywBw"
      },
      "outputs": [],
      "source": [
        "### create\n",
        "trouble_heartaches_and_sadness = '''\n",
        "Whoa\n",
        "Old man trouble\n",
        "Stop knockin' at my door\n",
        "You used to be a good friend of mine\n",
        "But you can't hang around me no more\n",
        "\n",
        "Heartache\n",
        "(heartache)\n",
        "Stop knockin' at my window\n",
        "I don't wanna hear what you have to say\n",
        "You can go join Mister Trouble\n",
        "And be on your merry way\n",
        "\n",
        "\n",
        "'Cause I've found the love\n",
        "I needed all the time\n",
        "I've found the love\n",
        "Help me ease my troubled mind\n",
        "\n",
        "Dark clouds\n",
        "Hanging over my head\n",
        "Aw, but this time\n",
        "Sure won't rain on me\n",
        "He's my sunshine\n",
        "And the love he gives\n",
        "Gonna set me free\n",
        "Yeah\n",
        "\n",
        "Mmm\n",
        "Sadness\n",
        "I have no more use for you\n",
        "I know you can easily\n",
        "Find you another friend\n",
        "Cos I've found someone\n",
        "To take away my trouble\n",
        "Bring my sadness to an end\n",
        "\n",
        "I've found the love\n",
        "I needed all the time\n",
        "I've found the love\n",
        "Help me ease my troubled mind\n",
        "'''"
      ]
    },
    {
      "cell_type": "markdown",
      "metadata": {
        "id": "hOB0m-CfywBw"
      },
      "source": [
        "**Problem 10**: Create a list of tokens from the lyrics and assign to the variable `peebles_lyrics` below.  Extract the last word of the lyrics and assign to `last_word`."
      ]
    },
    {
      "cell_type": "code",
      "execution_count": 32,
      "metadata": {
        "colab": {
          "base_uri": "https://localhost:8080/"
        },
        "id": "u2_O45d_ywBw",
        "outputId": "f5ae6fd8-b60f-48f1-f668-5e53494dc487"
      },
      "outputs": [
        {
          "output_type": "stream",
          "name": "stdout",
          "text": [
            "['Whoa', 'Old', 'man', 'trouble', 'Stop', \"knockin'\", 'at', 'my', 'door', 'You']\n",
            "mind\n"
          ]
        }
      ],
      "source": [
        "### index\n",
        "peebles_lyrics = trouble_heartaches_and_sadness.split()\n",
        "last_word = peebles_lyrics[-1]\n",
        "print(peebles_lyrics[:10])\n",
        "print(last_word)"
      ]
    },
    {
      "cell_type": "markdown",
      "metadata": {
        "id": "Q1mQ9IExywBw"
      },
      "source": [
        "**Problem 11**: Use the list `peebles_lyrics` to determine the number of words in the lyrics. Assign your results to `num_words` below."
      ]
    },
    {
      "cell_type": "code",
      "execution_count": 34,
      "metadata": {
        "colab": {
          "base_uri": "https://localhost:8080/"
        },
        "id": "DLjmUtVuywBw",
        "outputId": "dbda531f-3113-4730-c35f-14f2a112664a"
      },
      "outputs": [
        {
          "output_type": "execute_result",
          "data": {
            "text/plain": [
              "154"
            ]
          },
          "metadata": {},
          "execution_count": 34
        }
      ],
      "source": [
        "### length\n",
        "num_words=len(peebles_lyrics)\n",
        "num_words"
      ]
    },
    {
      "cell_type": "markdown",
      "metadata": {
        "id": "Si_0hkVZywBw"
      },
      "source": [
        "**Problem 12**: There is a kind of collection that we didn't discuss in class -- that of a `set`.  Read the documentation [here](https://docs.python.org/3/tutorial/datastructures.html#sets), and create a set of words from `peebles_lyrics`.  Assign the length of this set to `num_unique_words` below."
      ]
    },
    {
      "cell_type": "code",
      "execution_count": 35,
      "metadata": {
        "colab": {
          "base_uri": "https://localhost:8080/"
        },
        "id": "DSJHT-tMywBw",
        "outputId": "c3355a0c-dfb3-44fb-83bd-ee6513c58718"
      },
      "outputs": [
        {
          "output_type": "stream",
          "name": "stdout",
          "text": [
            "94\n"
          ]
        }
      ],
      "source": [
        "### set\n",
        "num_unique_words = len(set(peebles_lyrics))\n",
        "print(num_unique_words)\n"
      ]
    },
    {
      "cell_type": "markdown",
      "metadata": {
        "id": "7Q_ABkGVywBw"
      },
      "source": [
        "**Problem 13**: One way to understand the notion of lexical diversity is as the percent of unique words in a text.  What is the lexical diversity of *Trouble, Heartaches, and Sadness*?  Assign your answer as `lexical_diversity` below."
      ]
    },
    {
      "cell_type": "code",
      "execution_count": 36,
      "metadata": {
        "colab": {
          "base_uri": "https://localhost:8080/"
        },
        "id": "D5hWX3a8ywBw",
        "outputId": "f8d5b0e9-7879-45cb-9630-a2f014347193"
      },
      "outputs": [
        {
          "output_type": "stream",
          "name": "stdout",
          "text": [
            "0.6103896103896104\n"
          ]
        }
      ],
      "source": [
        "### lexical diversity\n",
        "lexical_diversity = len(set(peebles_lyrics)) / len(peebles_lyrics)\n",
        "print(lexical_diversity)"
      ]
    },
    {
      "cell_type": "markdown",
      "metadata": {
        "id": "jpRxI_rNywBw"
      },
      "source": [
        "**Problem 14**: Use your function to compare the lexical diversity of *Troubles, Heartaches, and Sadness* to that of the [Drake]() single *Hotline Bling*, assigned to the variable `hotline_bling` below.  Use the `lex_div` function to determine the lexical diversity and decide if *Drake* or *Anne Peebles* song had a higher lexical diversity."
      ]
    },
    {
      "cell_type": "code",
      "execution_count": null,
      "metadata": {
        "id": "jf065yARywBw"
      },
      "outputs": [],
      "source": [
        "hotline_bling = '''\n",
        "You used to call me on my\n",
        "You used to, you used to\n",
        "Yeah\n",
        "\n",
        "You used to call me on my cell phone\n",
        "Late-night when you need my love\n",
        "Call me on my cell phone\n",
        "Late-night when you need my love\n",
        "And I know when that hotline bling\n",
        "That can only mean one thing\n",
        "I know when that hotline bling\n",
        "That can only mean one thing\n",
        "\n",
        "\n",
        "Ever since I left the city, you\n",
        "Got a reputation for yourself now\n",
        "Everybody knows and I feel left out\n",
        "Girl, you got me down, you got me stressed out\n",
        "'Cause ever since I left the city, you\n",
        "Started wearing less and goin' out more\n",
        "Glasses of champagne out on the dance floor\n",
        "Hangin' with some girls I never seen before\n",
        "\n",
        "\n",
        "You used to call me on my cell phone\n",
        "Late-night when you need my love\n",
        "Call me on my cell phone\n",
        "Late-night when you need my love\n",
        "I know when that hotline bling\n",
        "That can only mean one thing\n",
        "I know when that hotline bling\n",
        "That can only mean one thing\n",
        "\n",
        "\n",
        "Ever since I left the city, you, you, you\n",
        "You and me, we just don't get along\n",
        "You make me feel like I did you wrong\n",
        "Going places where you don't belong\n",
        "Ever since I left the city, you\n",
        "You got exactly what you asked for\n",
        "Running out of pages in your passport\n",
        "Hangin' with some girls I've never seen before\n",
        "'''"
      ]
    },
    {
      "cell_type": "code",
      "execution_count": 2,
      "metadata": {
        "colab": {
          "base_uri": "https://localhost:8080/"
        },
        "id": "GRoOYhHOywBw",
        "outputId": "b1be32c5-fa2f-48e0-ae58-7fe8221d9a84"
      },
      "outputs": [
        {
          "output_type": "stream",
          "name": "stdout",
          "text": [
            "Peebles: 0.6666666666666666\n",
            "Drake: 0.9333333333333333\n"
          ]
        }
      ],
      "source": [
        "peebles_lyrics = \"Trouble Heartaches and Sadness Trouble Trouble\"\n",
        "peebles_div = len(set(peebles_lyrics.split())) / len(peebles_lyrics.split())\n",
        "\n",
        "hotline_bling = \"You used to call me on my cell phone Late-night when you need my love\"\n",
        "hotline_div = len(set(hotline_bling.split())) / len(hotline_bling.split())\n",
        "\n",
        "print(\"Peebles:\", peebles_div)\n",
        "print(\"Drake:\", hotline_div)\n"
      ]
    },
    {
      "cell_type": "markdown",
      "metadata": {
        "id": "MxsyH_4AywBw"
      },
      "source": [
        "### Further Problems\n",
        "\n",
        "One great resource for practice are sites like [code wars](https://www.codewars.com/).  They have problems organized by difficulty in *Kata*'s.  Head over to code wars and get set up to practice.  Explore some different problems and locate two that you understand and are able to solve.  State the problems and their solutions below."
      ]
    },
    {
      "cell_type": "markdown",
      "metadata": {
        "id": "-iD3-LPqywBx"
      },
      "source": [
        "**Problem 15**:  Code Wars Problem I"
      ]
    },
    {
      "cell_type": "code",
      "execution_count": 3,
      "metadata": {
        "colab": {
          "base_uri": "https://localhost:8080/"
        },
        "id": "98px2CLSywBx",
        "outputId": "42e7e3d7-b935-4e0e-80d3-90f67ac9cbe2"
      },
      "outputs": [
        {
          "output_type": "stream",
          "name": "stdout",
          "text": [
            "Even\n",
            "Odd\n",
            "Even\n"
          ]
        }
      ],
      "source": [
        "def even_or_odd(number):\n",
        "    if number % 2 == 0:\n",
        "        return \"Even\"\n",
        "    else:\n",
        "        return \"Odd\"\n",
        "\n",
        "print(even_or_odd(2))\n",
        "print(even_or_odd(7))\n",
        "print(even_or_odd(0))"
      ]
    },
    {
      "cell_type": "markdown",
      "metadata": {
        "id": "0fOEv_hJywBx"
      },
      "source": [
        "**Problem 16**: Code Wars Problem II"
      ]
    },
    {
      "cell_type": "code",
      "execution_count": 4,
      "metadata": {
        "colab": {
          "base_uri": "https://localhost:8080/"
        },
        "id": "5Z06kwDEywBx",
        "outputId": "3ab3365c-32ef-4856-c8ac-bc2af88691fd"
      },
      "outputs": [
        {
          "output_type": "stream",
          "name": "stdout",
          "text": [
            "HelloHelloHello\n",
            "aaaaa\n"
          ]
        }
      ],
      "source": [
        "def repeat_str(n, s):\n",
        "    return s * n\n",
        "\n",
        "print(repeat_str(3, \"Hello\"))\n",
        "print(repeat_str(5, \"a\"))"
      ]
    }
  ],
  "metadata": {
    "kernelspec": {
      "display_name": "Python 3 (ipykernel)",
      "language": "python",
      "name": "python3"
    },
    "language_info": {
      "codemirror_mode": {
        "name": "ipython",
        "version": 3
      },
      "file_extension": ".py",
      "mimetype": "text/x-python",
      "name": "python",
      "nbconvert_exporter": "python",
      "pygments_lexer": "ipython3",
      "version": "3.12.0"
    },
    "colab": {
      "provenance": []
    }
  },
  "nbformat": 4,
  "nbformat_minor": 0
}